{
 "cells": [
  {
   "attachments": {},
   "cell_type": "markdown",
   "id": "27b09e13",
   "metadata": {},
   "source": [
    "# Problemas de optimización de algoritmos"
   ]
  },
  {
   "attachments": {},
   "cell_type": "markdown",
   "id": "ed05e9bf",
   "metadata": {},
   "source": [
    "## Ejercicio 1\n",
    "### Optimización de código para procesamiento de texto\n",
    "\n",
    "Se te ha entregado un código de procesamiento de texto que realiza las siguientes operaciones:\n",
    "\n",
    "1. Convierte todo el texto a minúsculas.\n",
    "2. Elimina los signos de puntuación.\n",
    "3. Cuenta la frecuencia de cada palabra.\n",
    "4. Muestra las 5 palabras mas comunes.\n",
    "\n",
    "El código funciona, pero es ineficiente y puede optimizarse. Tu tarea es identificar las áreas que pueden ser mejoradas y reescribir esas partes para hacer el código mas eficiente y legible.\n"
   ]
  },
  {
   "cell_type": "code",
   "execution_count": 1,
   "id": "8467465b",
   "metadata": {},
   "outputs": [
    {
     "name": "stdout",
     "output_type": "stream",
     "text": [
      "'the': 5 times\n",
      "'of': 3 times\n",
      "'in': 2 times\n",
      "'a': 2 times\n",
      "'she': 2 times\n"
     ]
    }
   ],
   "source": [
    "import string\n",
    "\n",
    "def process_text(text):\n",
    "    # Texto a minuscula\n",
    "    text = text.lower()\n",
    "\n",
    "    # Eliminación de puntuaciones\n",
    "    for p in string.punctuation:\n",
    "        text = text.replace(p, \"\")\n",
    "\n",
    "    # Split text into words\n",
    "    words = text.split()\n",
    "\n",
    "    # Conteo de frecuencias\n",
    "    frequencies = {}\n",
    "    for w in words:\n",
    "        if w in frequencies:\n",
    "            frequencies[w] += 1\n",
    "        else:\n",
    "            frequencies[w] = 1\n",
    "\n",
    "    sorted_frequencies = sorted(frequencies.items(), key = lambda x: x[1], reverse = True)\n",
    "\n",
    "    # Obtener las 5 palabras más comunes\n",
    "    top_5 = sorted_frequencies[:5]\n",
    "    \n",
    "    for w, frequency in top_5:\n",
    "        print(f\"'{w}': {frequency} times\")\n",
    "\n",
    "text = \"\"\"\n",
    "    In the heart of the city, Emily discovered a quaint little café, hidden away from the bustling streets. \n",
    "    The aroma of freshly baked pastries wafted through the air, drawing in passersby. As she sipped on her latte, \n",
    "    she noticed an old bookshelf filled with classics, creating a cozy atmosphere that made her lose track of time.\n",
    "\"\"\"\n",
    "process_text(text)"
   ]
  },
  {
   "cell_type": "markdown",
   "id": "29040779",
   "metadata": {},
   "source": [
    "Puntos a optimizar:\n",
    "\n",
    "1. **Eliminar los signos de puntuación**: Usar `replace`  en un ciclo puede ser ineficiente, especialmente con textos largos. Busca una formas eficiente de eliminar los signos de puntuación.\n",
    "2. **Contador de frecuencia**: El código verifica la existencia de cada palabra en el diccionario y luego actualiza su cuenta. Esto puede hacerse mas eficientemente con ciertas estructuras de datos en Python.\n",
    "3. **Ordenar y seleccionar:** Considera si hay una forma mas directa o efectiva de obtener las 5 palabras mas frecuentes sin ordenar todas las palabras.\n",
    "4. **Modularidad**: Divide el código en funciones mas pequeñas para que cada una puede realizar una tarea específica. Esto no solo optimizará el desempeño, sino también hará el código mas legible y mantenible."
   ]
  },
  {
   "cell_type": "markdown",
   "id": "337551bf",
   "metadata": {},
   "source": [
    "# Resolución del 1er. Ejercicio"
   ]
  },
  {
   "cell_type": "markdown",
   "id": "8c0cdf3b",
   "metadata": {},
   "source": [
    "4.- Modularidad (reduce la función en funciones más pequeñas)"
   ]
  },
  {
   "cell_type": "markdown",
   "id": "db11d328",
   "metadata": {},
   "source": [
    "Texto a modificar"
   ]
  },
  {
   "cell_type": "code",
   "execution_count": 3,
   "id": "57cd6641",
   "metadata": {},
   "outputs": [
    {
     "data": {
      "text/plain": [
       "'In the heart of the city, Emily discovered a quaint little café, hidden away from the bustling streets. The aroma of freshly baked pastries wafted through the air, drawing in passersby. As she sipped on her latte, she noticed an old bookshelf filled with classics, creating a cozy atmosphere that made her lose track of time.'"
      ]
     },
     "execution_count": 3,
     "metadata": {},
     "output_type": "execute_result"
    }
   ],
   "source": [
    "Texto = \"In the heart of the city, Emily discovered a quaint little café, hidden away from the bustling streets. The aroma of freshly baked pastries wafted through the air, drawing in passersby. As she sipped on her latte, she noticed an old bookshelf filled with classics, creating a cozy atmosphere that made her lose track of time.\"\n",
    "Texto"
   ]
  },
  {
   "cell_type": "markdown",
   "id": "d3991435",
   "metadata": {},
   "source": [
    "Para simplificar el procesamiento del texto, se reduce primeramente todo a minúsculas"
   ]
  },
  {
   "cell_type": "code",
   "execution_count": 4,
   "id": "ec319eac",
   "metadata": {},
   "outputs": [
    {
     "data": {
      "text/plain": [
       "'in the heart of the city, emily discovered a quaint little café, hidden away from the bustling streets. the aroma of freshly baked pastries wafted through the air, drawing in passersby. as she sipped on her latte, she noticed an old bookshelf filled with classics, creating a cozy atmosphere that made her lose track of time.'"
      ]
     },
     "execution_count": 4,
     "metadata": {},
     "output_type": "execute_result"
    }
   ],
   "source": [
    "Texto_Minusc = Texto.lower()\n",
    "Texto_Minusc"
   ]
  },
  {
   "cell_type": "markdown",
   "id": "fe0b2b7b",
   "metadata": {},
   "source": [
    "1.- Eliminar signos de puntuación"
   ]
  },
  {
   "cell_type": "code",
   "execution_count": 5,
   "id": "e2b7acf3",
   "metadata": {},
   "outputs": [
    {
     "data": {
      "text/plain": [
       "'in the heart of the city emily discovered a quaint little café hidden away from the bustling streets the aroma of freshly baked pastries wafted through the air drawing in passersby as she sipped on her latte she noticed an old bookshelf filled with classics creating a cozy atmosphere that made her lose track of time'"
      ]
     },
     "execution_count": 5,
     "metadata": {},
     "output_type": "execute_result"
    }
   ],
   "source": [
    "import re\n",
    "Texto_Sin_punt = re.sub(r'[^\\w\\s]', '', Texto_Minusc)\n",
    "Texto_Sin_punt"
   ]
  },
  {
   "cell_type": "markdown",
   "id": "29a173cc",
   "metadata": {},
   "source": [
    "2.- Contar la frecuencia de cada palabra:"
   ]
  },
  {
   "cell_type": "code",
   "execution_count": 6,
   "id": "2fff7427",
   "metadata": {},
   "outputs": [
    {
     "data": {
      "text/plain": [
       "Counter({'the': 5,\n",
       "         'of': 3,\n",
       "         'in': 2,\n",
       "         'a': 2,\n",
       "         'she': 2,\n",
       "         'her': 2,\n",
       "         'heart': 1,\n",
       "         'city': 1,\n",
       "         'emily': 1,\n",
       "         'discovered': 1,\n",
       "         'quaint': 1,\n",
       "         'little': 1,\n",
       "         'café': 1,\n",
       "         'hidden': 1,\n",
       "         'away': 1,\n",
       "         'from': 1,\n",
       "         'bustling': 1,\n",
       "         'streets': 1,\n",
       "         'aroma': 1,\n",
       "         'freshly': 1,\n",
       "         'baked': 1,\n",
       "         'pastries': 1,\n",
       "         'wafted': 1,\n",
       "         'through': 1,\n",
       "         'air': 1,\n",
       "         'drawing': 1,\n",
       "         'passersby': 1,\n",
       "         'as': 1,\n",
       "         'sipped': 1,\n",
       "         'on': 1,\n",
       "         'latte': 1,\n",
       "         'noticed': 1,\n",
       "         'an': 1,\n",
       "         'old': 1,\n",
       "         'bookshelf': 1,\n",
       "         'filled': 1,\n",
       "         'with': 1,\n",
       "         'classics': 1,\n",
       "         'creating': 1,\n",
       "         'cozy': 1,\n",
       "         'atmosphere': 1,\n",
       "         'that': 1,\n",
       "         'made': 1,\n",
       "         'lose': 1,\n",
       "         'track': 1,\n",
       "         'time': 1})"
      ]
     },
     "execution_count": 6,
     "metadata": {},
     "output_type": "execute_result"
    }
   ],
   "source": [
    "from collections import Counter\n",
    "palabras = Texto_Sin_punt.split()  # Separa la cadena por espacios\n",
    "conteo = Counter(palabras)\n",
    "conteo"
   ]
  },
  {
   "cell_type": "markdown",
   "id": "8894118c",
   "metadata": {},
   "source": [
    "4.- detecta las 5 palabras más comunes sin necesidad de ordenar la lista"
   ]
  },
  {
   "cell_type": "code",
   "execution_count": 7,
   "id": "fae43afa",
   "metadata": {},
   "outputs": [
    {
     "data": {
      "text/plain": [
       "[('the', 5), ('of', 3), ('in', 2), ('a', 2), ('she', 2)]"
      ]
     },
     "execution_count": 7,
     "metadata": {},
     "output_type": "execute_result"
    }
   ],
   "source": [
    "cinco_más_comunes = conteo.most_common(5)\n",
    "cinco_más_comunes"
   ]
  },
  {
   "attachments": {},
   "cell_type": "markdown",
   "id": "011996bc",
   "metadata": {},
   "source": [
    "## Ejercicio 2\n",
    "### Optimización de código para procesamiento de listas\n",
    "\n",
    "Se te ha dado el siguiente código que realiza operaciones en una lista de números para:\n",
    "\n",
    "1. Filtrar los números pares.\n",
    "2. Duplicar cada número.\n",
    "3. Sumar todos los números.\n",
    "4. Verificar si el resultado es un número primo.\n",
    "\n",
    "El código entregado logra los objetivos, pero puede ser ineficiente. Tu tarea es identificar y mejorar las partes de ese código para mejorar su eficiencia."
   ]
  },
  {
   "cell_type": "code",
   "execution_count": 1,
   "id": "783d03a0",
   "metadata": {},
   "outputs": [
    {
     "name": "stdout",
     "output_type": "stream",
     "text": [
      "Result: 60, ¿Prime? No\n"
     ]
    }
   ],
   "source": [
    "import math\n",
    "\n",
    "def is_prime(n):\n",
    "    if n <= 1:\n",
    "        return False\n",
    "    for i in range(2, int(math.sqrt(n)) + 1):\n",
    "        if n % i == 0:\n",
    "            return False\n",
    "    return True\n",
    "\n",
    "def process_list(list_):\n",
    "    filtered_list = []\n",
    "    for num in list_:\n",
    "        if num % 2 == 0:\n",
    "            filtered_list.append(num)\n",
    "    \n",
    "    duplicate_list = []\n",
    "    for num in filtered_list:\n",
    "        duplicate_list.append(num * 2)\n",
    "        \n",
    "    sum = 0\n",
    "    for num in duplicate_list:\n",
    "        sum += num\n",
    "\n",
    "    prime = is_prime(sum)\n",
    "    \n",
    "    return sum, prime\n",
    "\n",
    "list_ = [1, 2, 3, 4, 5, 6, 7, 8, 9, 10]\n",
    "result, result_prime = process_list(list_)\n",
    "print(f\"Result: {result}, ¿Prime? {'Yes' if result_prime else 'No'}\")"
   ]
  },
  {
   "cell_type": "markdown",
   "id": "128d564e",
   "metadata": {},
   "source": [
    "Puntos a optimizar:\n",
    "\n",
    "1. **Filtrar las números**: El código recorre la lista original para filtrar los números pares. Considera una forma mas eficiente de filtrar la lista.\n",
    "2. **Duplicación**: La lista es atravesada varias veces. ¿Hay alguna manera de hacer esto mas eficientemente?\n",
    "3. **Suma**: Los números en la lista se suman a traves de un bucle. Python trae incluidas unas funciones que pueden optimizar esto.\n",
    "4. **Función `is_prime`**: Aunque ésta función es relativamente eficiente, investiga si hay maneras de hacerla aun más rápida.\n",
    "5. **Modularidad**: Considera dividir el código en funciones más pequeñas, cada una enfocada en una tarea específica."
   ]
  },
  {
   "cell_type": "markdown",
   "id": "8d836a00",
   "metadata": {},
   "source": [
    "## Ejercicio 2: aplicando cada función de forma independiente a la lista"
   ]
  },
  {
   "cell_type": "markdown",
   "id": "534331b8",
   "metadata": {},
   "source": [
    "### 5.- Modularidad (reduce la función en funciones más pequeñas)"
   ]
  },
  {
   "cell_type": "code",
   "execution_count": 8,
   "id": "c53accd5",
   "metadata": {},
   "outputs": [],
   "source": [
    "lista = [1, 2, 3, 4, 5, 6, 7, 8, 9, 10]"
   ]
  },
  {
   "cell_type": "markdown",
   "id": "e89e50ca",
   "metadata": {},
   "source": [
    "1.- filtrar los números pares"
   ]
  },
  {
   "cell_type": "code",
   "execution_count": 9,
   "id": "f40e35d6",
   "metadata": {},
   "outputs": [
    {
     "data": {
      "text/plain": [
       "[2, 4, 6, 8, 10]"
      ]
     },
     "execution_count": 9,
     "metadata": {},
     "output_type": "execute_result"
    }
   ],
   "source": [
    "pares = [núm for núm in lista if núm % 2 == 0]\n",
    "pares"
   ]
  },
  {
   "cell_type": "markdown",
   "id": "8e837d43",
   "metadata": {},
   "source": [
    "2.- Duplicar cada número"
   ]
  },
  {
   "cell_type": "code",
   "execution_count": 10,
   "id": "6e19373f",
   "metadata": {},
   "outputs": [
    {
     "data": {
      "text/plain": [
       "[2, 4, 6, 8, 10, 12, 14, 16, 18, 20]"
      ]
     },
     "execution_count": 10,
     "metadata": {},
     "output_type": "execute_result"
    }
   ],
   "source": [
    "listaX2 = [núm * 2 for núm in lista]\n",
    "listaX2"
   ]
  },
  {
   "cell_type": "markdown",
   "id": "75c5071e",
   "metadata": {},
   "source": [
    "3.- Sumar todos los números"
   ]
  },
  {
   "cell_type": "code",
   "execution_count": 11,
   "id": "45b600da",
   "metadata": {},
   "outputs": [
    {
     "data": {
      "text/plain": [
       "55"
      ]
     },
     "execution_count": 11,
     "metadata": {},
     "output_type": "execute_result"
    }
   ],
   "source": [
    "suma = sum(lista)\n",
    "suma"
   ]
  },
  {
   "cell_type": "markdown",
   "id": "dcd35f8d",
   "metadata": {},
   "source": [
    "4- Verficar si el resultado es primo"
   ]
  },
  {
   "cell_type": "code",
   "execution_count": 12,
   "id": "ecbb70b9",
   "metadata": {},
   "outputs": [
    {
     "data": {
      "text/plain": [
       "False"
      ]
     },
     "execution_count": 12,
     "metadata": {},
     "output_type": "execute_result"
    }
   ],
   "source": [
    "primo = is_prime(suma)\n",
    "primo"
   ]
  },
  {
   "cell_type": "markdown",
   "id": "3512e432",
   "metadata": {},
   "source": [
    "## Ejercicio 2: aplicando cada función al resultado de la función anterior"
   ]
  },
  {
   "attachments": {},
   "cell_type": "markdown",
   "id": "1af70806",
   "metadata": {},
   "source": [
    "Ambos ejercicios  ayudarán a mejorar tu habilidad de optimizar el desempeño del código y te darán un mejor entendimiento de como las diferentes estructuras de datos y técnicas de programación pueden afectar la eficiencia de tu código."
   ]
  },
  {
   "cell_type": "markdown",
   "id": "2d434b64",
   "metadata": {},
   "source": [
    "1.- Filtrar los números pares"
   ]
  },
  {
   "cell_type": "code",
   "execution_count": 13,
   "id": "b8e0c355",
   "metadata": {},
   "outputs": [
    {
     "data": {
      "text/plain": [
       "[2, 4, 6, 8, 10]"
      ]
     },
     "execution_count": 13,
     "metadata": {},
     "output_type": "execute_result"
    }
   ],
   "source": [
    "lista = [núm for núm in lista if núm % 2 == 0]\n",
    "lista"
   ]
  },
  {
   "cell_type": "markdown",
   "id": "cfcf70bd",
   "metadata": {},
   "source": [
    "2.- Duplicar cada número"
   ]
  },
  {
   "cell_type": "code",
   "execution_count": 14,
   "id": "43cc65d8",
   "metadata": {},
   "outputs": [
    {
     "data": {
      "text/plain": [
       "[4, 8, 12, 16, 20]"
      ]
     },
     "execution_count": 14,
     "metadata": {},
     "output_type": "execute_result"
    }
   ],
   "source": [
    "lista = [núm * 2 for núm in lista]\n",
    "lista"
   ]
  },
  {
   "cell_type": "markdown",
   "id": "1d485123",
   "metadata": {},
   "source": [
    "3.- Sumar todos los números"
   ]
  },
  {
   "cell_type": "code",
   "execution_count": 16,
   "id": "89fe6b66",
   "metadata": {},
   "outputs": [
    {
     "data": {
      "text/plain": [
       "60"
      ]
     },
     "execution_count": 16,
     "metadata": {},
     "output_type": "execute_result"
    }
   ],
   "source": [
    "sum(lista)"
   ]
  },
  {
   "cell_type": "markdown",
   "id": "d6521f53",
   "metadata": {},
   "source": [
    "4.- Verificar si el número es primo"
   ]
  },
  {
   "cell_type": "code",
   "execution_count": 17,
   "id": "e621b482",
   "metadata": {},
   "outputs": [
    {
     "data": {
      "text/plain": [
       "False"
      ]
     },
     "execution_count": 17,
     "metadata": {},
     "output_type": "execute_result"
    }
   ],
   "source": [
    "is_prime(sum(lista))"
   ]
  }
 ],
 "metadata": {
  "kernelspec": {
   "display_name": "Python 3",
   "language": "python",
   "name": "python3"
  },
  "language_info": {
   "codemirror_mode": {
    "name": "ipython",
    "version": 3
   },
   "file_extension": ".py",
   "mimetype": "text/x-python",
   "name": "python",
   "nbconvert_exporter": "python",
   "pygments_lexer": "ipython3",
   "version": "3.13.4"
  }
 },
 "nbformat": 4,
 "nbformat_minor": 5
}
