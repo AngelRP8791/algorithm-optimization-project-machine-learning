{
  "nbformat": 4,
  "nbformat_minor": 0,
  "metadata": {
    "colab": {
      "provenance": [],
      "authorship_tag": "ABX9TyNFFhg/Cm3ZiC3TpVyVo664",
      "include_colab_link": true
    },
    "kernelspec": {
      "name": "python3",
      "display_name": "Python 3"
    },
    "language_info": {
      "name": "python"
    }
  },
  "cells": [
    {
      "cell_type": "markdown",
      "metadata": {
        "id": "view-in-github",
        "colab_type": "text"
      },
      "source": [
        "<a href=\"https://colab.research.google.com/github/AngelRP8791/algorithm-optimization-project-machine-learning/blob/main/Optimizaci%C3%B3n_de_alroritmos.ipynb\" target=\"_parent\"><img src=\"https://colab.research.google.com/assets/colab-badge.svg\" alt=\"Open In Colab\"/></a>"
      ]
    },
    {
      "cell_type": "markdown",
      "source": [
        "#Problemas de optimización de algoritmos"
      ],
      "metadata": {
        "id": "AwtS17XHTSwo"
      }
    },
    {
      "cell_type": "markdown",
      "source": [
        "##Ejercicio 1"
      ],
      "metadata": {
        "id": "jZRiN_h6TXbl"
      }
    },
    {
      "cell_type": "markdown",
      "source": [
        "### Optimización de código para procesamiento de texto"
      ],
      "metadata": {
        "id": "CGty8hp_TupB"
      }
    },
    {
      "cell_type": "markdown",
      "source": [
        "Se te ha entregado un código de procesamiento de texto que realiza las siguientes operaciones:\n",
        "\n",
        "1. Convierte todo el texto a minúsculas.\n",
        "2. Elimina los signos de puntuación.\n",
        "3. Cuenta la frecuencia de cada palabra.\n",
        "4. Muestra las 5 palabras mas comunes.\n",
        "\n",
        "El código funciona, pero es ineficiente y puede optimizarse. Tu tarea es identificar las áreas que pueden ser mejoradas y reescribir esas partes para hacer el código mas eficiente y legible."
      ],
      "metadata": {
        "id": "o1RoTZA9Tx5X"
      }
    },
    {
      "cell_type": "code",
      "source": [
        "import string\n",
        "\n",
        "def process_text(text):\n",
        "    # Texto a minuscula\n",
        "    text = text.lower()\n",
        "\n",
        "    # Eliminación de puntuaciones\n",
        "    for p in string.punctuation:\n",
        "        text = text.replace(p, \"\")\n",
        "\n",
        "    # Split text into words\n",
        "    words = text.split()\n",
        "\n",
        "    # Conteo de frecuencias\n",
        "    frequencies = {}\n",
        "    for w in words:\n",
        "        if w in frequencies:\n",
        "            frequencies[w] += 1\n",
        "        else:\n",
        "            frequencies[w] = 1\n",
        "\n",
        "    sorted_frequencies = sorted(frequencies.items(), key = lambda x: x[1], reverse = True)\n",
        "\n",
        "    # Obtener las 5 palabras más comunes\n",
        "    top_5 = sorted_frequencies[:5]\n",
        "\n",
        "    for w, frequency in top_5:\n",
        "        print(f\"'{w}': {frequency} times\")\n",
        "\n",
        "text = \"\"\"\n",
        "    In the heart of the city, Emily discovered a quaint little café, hidden away from the bustling streets.\n",
        "    The aroma of freshly baked pastries wafted through the air, drawing in passersby. As she sipped on her latte,\n",
        "    she noticed an old bookshelf filled with classics, creating a cozy atmosphere that made her lose track of time.\n",
        "\"\"\"\n",
        "process_text(text)"
      ],
      "metadata": {
        "colab": {
          "base_uri": "https://localhost:8080/"
        },
        "id": "WES36kj1UDNF",
        "outputId": "483d4b57-0ebb-4b64-d444-2c55ebc8e662"
      },
      "execution_count": 2,
      "outputs": [
        {
          "output_type": "stream",
          "name": "stdout",
          "text": [
            "'the': 5 times\n",
            "'of': 3 times\n",
            "'in': 2 times\n",
            "'a': 2 times\n",
            "'she': 2 times\n"
          ]
        }
      ]
    },
    {
      "cell_type": "markdown",
      "source": [
        "Puntos a optimizar:\n",
        "\n",
        "1. **Eliminar los signos de puntuación**: Usar `replace`  en un ciclo puede ser ineficiente, especialmente con textos largos. Busca una formas eficiente de eliminar los signos de puntuación.\n",
        "2. **Contador de frecuencia**: El código verifica la existencia de cada palabra en el diccionario y luego actualiza su cuenta. Esto puede hacerse mas eficientemente con ciertas estructuras de datos en Python.\n",
        "3. **Ordenar y seleccionar:** Considera si hay una forma mas directa o efectiva de obtener las 5 palabras mas frecuentes sin ordenar todas las palabras.\n",
        "4. **Modularidad**: Divide el código en funciones mas pequeñas para que cada una puede realizar una tarea específica. Esto no solo optimizará el desempeño, sino también hará el código mas legible y mantenible."
      ],
      "metadata": {
        "id": "a31-XXHYcVz6"
      }
    },
    {
      "cell_type": "markdown",
      "source": [
        "#### Resolucion del 1er. Ejercicio"
      ],
      "metadata": {
        "id": "n0AJ1ZhmUtEU"
      }
    },
    {
      "cell_type": "markdown",
      "source": [
        "Texto a modificar"
      ],
      "metadata": {
        "id": "Y7yjye4PVTjg"
      }
    },
    {
      "cell_type": "code",
      "source": [
        "Texto = \"In the heart of the city, Emily discovered a quaint little café, hidden away from the bustling streets. The aroma of freshly baked pastries wafted through the air, drawing in passersby. As she sipped on her latte, she noticed an old bookshelf filled with classics, creating a cozy atmosphere that made her lose track of time.\"\n",
        "Texto"
      ],
      "metadata": {
        "colab": {
          "base_uri": "https://localhost:8080/",
          "height": 73
        },
        "id": "HseMBA-hUolG",
        "outputId": "720812e1-8531-46ca-914d-80ee30354bd7"
      },
      "execution_count": 16,
      "outputs": [
        {
          "output_type": "execute_result",
          "data": {
            "text/plain": [
              "'In the heart of the city, Emily discovered a quaint little café, hidden away from the bustling streets. The aroma of freshly baked pastries wafted through the air, drawing in passersby. As she sipped on her latte, she noticed an old bookshelf filled with classics, creating a cozy atmosphere that made her lose track of time.'"
            ],
            "application/vnd.google.colaboratory.intrinsic+json": {
              "type": "string"
            }
          },
          "metadata": {},
          "execution_count": 16
        }
      ]
    },
    {
      "cell_type": "markdown",
      "source": [
        "1.- Convertir a minúsculas"
      ],
      "metadata": {
        "id": "On8SrmIaVWMO"
      }
    },
    {
      "cell_type": "code",
      "source": [
        "Texto_Minusc = Texto.lower()\n",
        "Texto_Minusc"
      ],
      "metadata": {
        "colab": {
          "base_uri": "https://localhost:8080/",
          "height": 73
        },
        "id": "qQ7zcAOUVgDu",
        "outputId": "ef6a4837-cc1e-4e87-eaa4-daab957cabbe"
      },
      "execution_count": 6,
      "outputs": [
        {
          "output_type": "execute_result",
          "data": {
            "text/plain": [
              "'in the heart of the city, emily discovered a quaint little café, hidden away from the bustling streets. the aroma of freshly baked pastries wafted through the air, drawing in passersby. as she sipped on her latte, she noticed an old bookshelf filled with classics, creating a cozy atmosphere that made her lose track of time.'"
            ],
            "application/vnd.google.colaboratory.intrinsic+json": {
              "type": "string"
            }
          },
          "metadata": {},
          "execution_count": 6
        }
      ]
    },
    {
      "cell_type": "markdown",
      "source": [
        "2.- Eliminar signos de puntuación"
      ],
      "metadata": {
        "id": "A0OSHv5HW_L8"
      }
    },
    {
      "cell_type": "code",
      "source": [
        "import re\n",
        "Texto_Sin_punt = re.sub(r'[^\\w\\s]', '', Texto_Minusc)\n",
        "Texto_Sin_punt"
      ],
      "metadata": {
        "colab": {
          "base_uri": "https://localhost:8080/",
          "height": 73
        },
        "id": "Ex4ng572XMY0",
        "outputId": "cfccf08a-6884-4ca6-edd6-07740d10e1b9"
      },
      "execution_count": 7,
      "outputs": [
        {
          "output_type": "execute_result",
          "data": {
            "text/plain": [
              "'in the heart of the city emily discovered a quaint little café hidden away from the bustling streets the aroma of freshly baked pastries wafted through the air drawing in passersby as she sipped on her latte she noticed an old bookshelf filled with classics creating a cozy atmosphere that made her lose track of time'"
            ],
            "application/vnd.google.colaboratory.intrinsic+json": {
              "type": "string"
            }
          },
          "metadata": {},
          "execution_count": 7
        }
      ]
    },
    {
      "cell_type": "markdown",
      "source": [
        "3.- Cuenta la frecuencia de cada palabra"
      ],
      "metadata": {
        "id": "2XADhlD8XLe4"
      }
    },
    {
      "cell_type": "code",
      "source": [
        "from collections import Counter\n",
        "palabras = Texto_Sin_punt.split()  # Separa la cadena por espacios\n",
        "conteo = Counter(palabras)\n",
        "conteo"
      ],
      "metadata": {
        "colab": {
          "base_uri": "https://localhost:8080/"
        },
        "id": "fLB898OhYXJq",
        "outputId": "793ed488-0a5e-407d-d1c5-abdaaa890f40"
      },
      "execution_count": 9,
      "outputs": [
        {
          "output_type": "execute_result",
          "data": {
            "text/plain": [
              "Counter({'in': 2,\n",
              "         'the': 5,\n",
              "         'heart': 1,\n",
              "         'of': 3,\n",
              "         'city': 1,\n",
              "         'emily': 1,\n",
              "         'discovered': 1,\n",
              "         'a': 2,\n",
              "         'quaint': 1,\n",
              "         'little': 1,\n",
              "         'café': 1,\n",
              "         'hidden': 1,\n",
              "         'away': 1,\n",
              "         'from': 1,\n",
              "         'bustling': 1,\n",
              "         'streets': 1,\n",
              "         'aroma': 1,\n",
              "         'freshly': 1,\n",
              "         'baked': 1,\n",
              "         'pastries': 1,\n",
              "         'wafted': 1,\n",
              "         'through': 1,\n",
              "         'air': 1,\n",
              "         'drawing': 1,\n",
              "         'passersby': 1,\n",
              "         'as': 1,\n",
              "         'she': 2,\n",
              "         'sipped': 1,\n",
              "         'on': 1,\n",
              "         'her': 2,\n",
              "         'latte': 1,\n",
              "         'noticed': 1,\n",
              "         'an': 1,\n",
              "         'old': 1,\n",
              "         'bookshelf': 1,\n",
              "         'filled': 1,\n",
              "         'with': 1,\n",
              "         'classics': 1,\n",
              "         'creating': 1,\n",
              "         'cozy': 1,\n",
              "         'atmosphere': 1,\n",
              "         'that': 1,\n",
              "         'made': 1,\n",
              "         'lose': 1,\n",
              "         'track': 1,\n",
              "         'time': 1})"
            ]
          },
          "metadata": {},
          "execution_count": 9
        }
      ]
    },
    {
      "cell_type": "markdown",
      "source": [
        "4.- Muestra las cinco palabras más comunes"
      ],
      "metadata": {
        "id": "Zv51V1VmVYM_"
      }
    },
    {
      "cell_type": "code",
      "source": [
        "cinco_más_comunes = conteo.most_common(5)\n",
        "cinco_más_comunes"
      ],
      "metadata": {
        "colab": {
          "base_uri": "https://localhost:8080/"
        },
        "id": "Ir88d58xbugY",
        "outputId": "a0e49d85-508d-43b1-ebf3-1c22176511ba"
      },
      "execution_count": 19,
      "outputs": [
        {
          "output_type": "execute_result",
          "data": {
            "text/plain": [
              "[('the', 5), ('of', 3), ('in', 2), ('a', 2), ('she', 2)]"
            ]
          },
          "metadata": {},
          "execution_count": 19
        }
      ]
    },
    {
      "cell_type": "markdown",
      "source": [
        "##Ejercicio 2"
      ],
      "metadata": {
        "id": "nT_IDDbNcqSO"
      }
    },
    {
      "cell_type": "markdown",
      "source": [
        "## Optimización de código para procesamiento de listas"
      ],
      "metadata": {
        "id": "hLVN05_wcxMs"
      }
    },
    {
      "cell_type": "markdown",
      "source": [
        "Se te ha dado el siguiente código que realiza operaciones en una lista de números para:\n",
        "\n",
        "1. Filtrar los números pares.\n",
        "2. Duplicar cada número.\n",
        "3. Sumar todos los números.\n",
        "4. Verificar si el resultado es un número primo.\n",
        "\n",
        "El código entregado logra los objetivos, pero puede ser ineficiente. Tu tarea es identificar y mejorar las partes de ese código para mejorar su eficiencia."
      ],
      "metadata": {
        "id": "SUiRrTK7c4Nj"
      }
    },
    {
      "cell_type": "code",
      "execution_count": 20,
      "metadata": {
        "colab": {
          "base_uri": "https://localhost:8080/"
        },
        "id": "b9GAOkS34K8b",
        "outputId": "8f3e587d-0f4a-4a0a-e5cf-062e884470bc"
      },
      "outputs": [
        {
          "output_type": "stream",
          "name": "stdout",
          "text": [
            "Result: 60, ¿Prime? No\n"
          ]
        }
      ],
      "source": [
        "import math\n",
        "\n",
        "def is_prime(n):\n",
        "    if n <= 1:\n",
        "        return False\n",
        "    for i in range(2, int(math.sqrt(n)) + 1):\n",
        "        if n % i == 0:\n",
        "            return False\n",
        "    return True\n",
        "\n",
        "def process_list(list_):\n",
        "    filtered_list = []\n",
        "    for num in list_:\n",
        "        if num % 2 == 0:\n",
        "            filtered_list.append(num)\n",
        "\n",
        "    duplicate_list = []\n",
        "    for num in filtered_list:\n",
        "        duplicate_list.append(num * 2)\n",
        "\n",
        "    sum = 0\n",
        "    for num in duplicate_list:\n",
        "        sum += num\n",
        "\n",
        "    prime = is_prime(sum)\n",
        "\n",
        "    return sum, prime\n",
        "\n",
        "list_ = [1, 2, 3, 4, 5, 6, 7, 8, 9, 10]\n",
        "result, result_prime = process_list(list_)\n",
        "print(f\"Result: {result}, ¿Prime? {'Yes' if result_prime else 'No'}\")"
      ]
    },
    {
      "cell_type": "markdown",
      "source": [
        "Puntos a optimizar:\n",
        "\n",
        "1. **Filtrar las números**: El código recorre la lista original para filtrar los números pares. Considera una forma mas eficiente de filtrar la lista.\n",
        "2. **Duplicación**: La lista es atravesada varias veces. ¿Hay alguna manera de hacer esto mas eficientemente?\n",
        "3. **Suma**: Los números en la lista se suman a traves de un bucle. Python trae incluidas unas funciones que pueden optimizar esto.\n",
        "4. **Función `is_prime`**: Aunque ésta función es relativamente eficiente, investiga si hay maneras de hacerla aun más rápida.\n",
        "5. **Modularidad**: Considera dividir el código en funciones más pequeñas, cada una enfocada en una tarea específica.\n",
        "\n",
        "Ambos ejercicios  ayudarán a mejorar tu habilidad de optimizar el desempeño del código y te darán un mejor entendimiento de como las diferentes estructuras de datos y técnicas de programación pueden afectar la eficiencia de tu código."
      ],
      "metadata": {
        "id": "8UDAiyPqdmT7"
      }
    },
    {
      "cell_type": "markdown",
      "source": [
        "#Resolución del ejercicio 2\n",
        "\n",
        "Aplicando a la lista cada ejercicio de forma independiente"
      ],
      "metadata": {
        "id": "Xy_vV-mpdxYP"
      }
    },
    {
      "cell_type": "code",
      "source": [
        "lista = [1, 2, 3, 4, 5, 6, 7, 8, 9, 10]"
      ],
      "metadata": {
        "id": "5viRR575gc68"
      },
      "execution_count": 22,
      "outputs": []
    },
    {
      "cell_type": "markdown",
      "source": [
        "1.- Filtrar los números pares"
      ],
      "metadata": {
        "id": "jqs6YCtEeHeS"
      }
    },
    {
      "cell_type": "code",
      "source": [
        "pares = [núm for núm in lista if núm % 2 == 0]\n",
        "pares"
      ],
      "metadata": {
        "colab": {
          "base_uri": "https://localhost:8080/"
        },
        "id": "MmB2dXxUllVk",
        "outputId": "72ebfbd8-621c-4471-df46-94291e1efc32"
      },
      "execution_count": 24,
      "outputs": [
        {
          "output_type": "execute_result",
          "data": {
            "text/plain": [
              "[2, 4, 6, 8, 10]"
            ]
          },
          "metadata": {},
          "execution_count": 24
        }
      ]
    },
    {
      "cell_type": "markdown",
      "source": [
        "2.- Duplicar cada número:"
      ],
      "metadata": {
        "id": "xIt5s43YeHRM"
      }
    },
    {
      "cell_type": "code",
      "source": [
        "listaX2 = [núm * 2 for núm in lista]\n",
        "listaX2"
      ],
      "metadata": {
        "colab": {
          "base_uri": "https://localhost:8080/"
        },
        "id": "lOMUXqImmSv9",
        "outputId": "556e9e5f-5298-4570-a920-cccfcc621fba"
      },
      "execution_count": 27,
      "outputs": [
        {
          "output_type": "execute_result",
          "data": {
            "text/plain": [
              "[2, 4, 6, 8, 10, 12, 14, 16, 18, 20]"
            ]
          },
          "metadata": {},
          "execution_count": 27
        }
      ]
    },
    {
      "cell_type": "markdown",
      "source": [
        "3.- Sumar todos los números:"
      ],
      "metadata": {
        "id": "xgP73CUgeHAg"
      }
    },
    {
      "cell_type": "code",
      "source": [
        "suma = sum(lista)\n",
        "suma"
      ],
      "metadata": {
        "colab": {
          "base_uri": "https://localhost:8080/"
        },
        "id": "fuP1UC7qnsyy",
        "outputId": "2369a1dc-26bc-412d-8872-f81743cee715"
      },
      "execution_count": 29,
      "outputs": [
        {
          "output_type": "execute_result",
          "data": {
            "text/plain": [
              "55"
            ]
          },
          "metadata": {},
          "execution_count": 29
        }
      ]
    },
    {
      "cell_type": "markdown",
      "source": [
        "4.- Verifica si el resultado es primo"
      ],
      "metadata": {
        "id": "IeGUWl3ZeGR1"
      }
    },
    {
      "cell_type": "code",
      "source": [
        "primo = is_prime(suma)\n",
        "primo"
      ],
      "metadata": {
        "colab": {
          "base_uri": "https://localhost:8080/"
        },
        "id": "S_82eXYIoC-1",
        "outputId": "b0ae40fc-8f11-4ca4-ea3d-20f985853f48"
      },
      "execution_count": 31,
      "outputs": [
        {
          "output_type": "execute_result",
          "data": {
            "text/plain": [
              "False"
            ]
          },
          "metadata": {},
          "execution_count": 31
        }
      ]
    },
    {
      "cell_type": "markdown",
      "source": [
        "#Resolución del Ejercicio 2\n",
        "Aplicado de forma consecutiva (cada código al resultado del anterior)"
      ],
      "metadata": {
        "id": "A9zu_suSoeca"
      }
    },
    {
      "cell_type": "markdown",
      "source": [
        "1.- Filtrar los números pares"
      ],
      "metadata": {
        "id": "LJD2k1OZpLYo"
      }
    },
    {
      "cell_type": "code",
      "source": [
        "lista = [núm for núm in lista if núm % 2 == 0]\n",
        "lista"
      ],
      "metadata": {
        "colab": {
          "base_uri": "https://localhost:8080/"
        },
        "id": "lu3rRrkAoyK8",
        "outputId": "fdc09496-1311-4451-c358-daa8ac2c2487"
      },
      "execution_count": 32,
      "outputs": [
        {
          "output_type": "execute_result",
          "data": {
            "text/plain": [
              "[2, 4, 6, 8, 10]"
            ]
          },
          "metadata": {},
          "execution_count": 32
        }
      ]
    },
    {
      "cell_type": "markdown",
      "source": [
        "2.- Duplicar cada número"
      ],
      "metadata": {
        "id": "CWKh-4srpj_5"
      }
    },
    {
      "cell_type": "code",
      "source": [
        "lista = [núm * 2 for núm in lista]\n",
        "lista"
      ],
      "metadata": {
        "colab": {
          "base_uri": "https://localhost:8080/"
        },
        "id": "pohCEVEIpfW1",
        "outputId": "c274cd20-b74f-4669-d33b-3cf0cc36b5ed"
      },
      "execution_count": 33,
      "outputs": [
        {
          "output_type": "execute_result",
          "data": {
            "text/plain": [
              "[4, 8, 12, 16, 20]"
            ]
          },
          "metadata": {},
          "execution_count": 33
        }
      ]
    },
    {
      "cell_type": "markdown",
      "source": [
        "3.- Sumar todos los números"
      ],
      "metadata": {
        "id": "SVP2OniOptDm"
      }
    },
    {
      "cell_type": "code",
      "source": [
        "sum(lista)"
      ],
      "metadata": {
        "colab": {
          "base_uri": "https://localhost:8080/"
        },
        "id": "Z5IyV-REp5qL",
        "outputId": "79e4011e-e9d6-46c3-8052-cc76021fca95"
      },
      "execution_count": 34,
      "outputs": [
        {
          "output_type": "execute_result",
          "data": {
            "text/plain": [
              "60"
            ]
          },
          "metadata": {},
          "execution_count": 34
        }
      ]
    },
    {
      "cell_type": "code",
      "source": [
        "is_prime(sum(lista))"
      ],
      "metadata": {
        "colab": {
          "base_uri": "https://localhost:8080/"
        },
        "id": "0Yp8P8aUqEDE",
        "outputId": "1f4d8781-75fb-48a1-ccdf-2c510b4bf4d0"
      },
      "execution_count": 35,
      "outputs": [
        {
          "output_type": "execute_result",
          "data": {
            "text/plain": [
              "False"
            ]
          },
          "metadata": {},
          "execution_count": 35
        }
      ]
    }
  ]
}